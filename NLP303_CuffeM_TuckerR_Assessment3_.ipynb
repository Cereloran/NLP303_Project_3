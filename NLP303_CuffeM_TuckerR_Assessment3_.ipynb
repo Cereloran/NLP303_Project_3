{
 "cells": [
  {
   "metadata": {},
   "cell_type": "markdown",
   "source": [
    "# DLE303 Assessment 3 - Main\n",
    "## Rachel Tucker & Michael Cuffe\n",
    "\n",
    "## Dependencies:\n",
    "- Python 3.12"
   ],
   "id": "f18c8814521629d8"
  },
  {
   "metadata": {
    "collapsed": true,
    "ExecuteTime": {
     "end_time": "2024-12-04T00:29:02.373871Z",
     "start_time": "2024-12-04T00:28:21.043373Z"
    }
   },
   "cell_type": "code",
   "source": [
    "%%capture\n",
    "!pip install transformers\n",
    "!pip install torch\n",
    "!pip install pandas\n",
    "!pip install numpy\n",
    "!pip install matplotlib\n",
    "!pip install seaborn"
   ],
   "id": "initial_id",
   "outputs": [],
   "execution_count": 123
  },
  {
   "metadata": {},
   "cell_type": "markdown",
   "source": "# import libraries",
   "id": "65f0e483f4df2f11"
  },
  {
   "metadata": {
    "ExecuteTime": {
     "end_time": "2024-12-04T00:29:02.674126Z",
     "start_time": "2024-12-04T00:29:02.663117Z"
    }
   },
   "cell_type": "code",
   "source": [
    "import transformers\n",
    "from transformers import trainer\n",
    "from torch.nn import CrossEntropyLoss\n",
    "from transformers import get_scheduler\n",
    "from sklearn.metrics import f1_score\n",
    "from sklearn.metrics import accuracy_score\n",
    "from tqdm import tqdm\n",
    "from accelerate.test_utils.scripts.test_distributed_data_loop import test_data_loader\n",
    "import torch\n",
    "import torch.optim as optim\n",
    "from transformers import BertTokenizer, BertForSequenceClassification, Trainer, TrainingArguments\n",
    "import pandas as pd\n",
    "from torch.utils.data import DataLoader\n",
    "from sklearn.metrics import f1_score, accuracy_score, precision_score, recall_score\n",
    "import torch.nn.functional as F"
   ],
   "id": "8332b4f6d36b055d",
   "outputs": [],
   "execution_count": 124
  },
  {
   "metadata": {
    "ExecuteTime": {
     "end_time": "2024-12-04T00:29:02.906421Z",
     "start_time": "2024-12-04T00:29:02.899986Z"
    }
   },
   "cell_type": "code",
   "source": [
    "# Ignore warnings after first viewing\n",
    "import warnings\n",
    "warnings.filterwarnings(action='once')"
   ],
   "id": "6f6d2c781bad2740",
   "outputs": [],
   "execution_count": 125
  },
  {
   "metadata": {},
   "cell_type": "markdown",
   "source": "# This is where we split the data into training and testing sets ",
   "id": "682e6f5b20d56cce"
  },
  {
   "metadata": {
    "ExecuteTime": {
     "end_time": "2024-12-04T00:29:03.863796Z",
     "start_time": "2024-12-04T00:29:03.289Z"
    }
   },
   "cell_type": "code",
   "source": [
    "# Load the dataset\n",
    "data = pd.read_csv('data/200k_Short_Texts.csv')\n",
    "data = data.dropna()\n",
    "data = data.sample(frac=1).reset_index(drop=True)\n",
    "\n",
    "# Split the data into training and testing sets\n",
    "from sklearn.model_selection import train_test_split\n",
    "\n",
    "train_data, test_data = train_test_split(data, test_size=0.2, random_state=42)"
   ],
   "id": "346a5a687599700f",
   "outputs": [],
   "execution_count": 126
  },
  {
   "metadata": {},
   "cell_type": "markdown",
   "source": "# Tokenize the Data",
   "id": "28408db6075cf1d6"
  },
  {
   "metadata": {
    "ExecuteTime": {
     "end_time": "2024-12-04T00:30:29.378076Z",
     "start_time": "2024-12-04T00:29:04.050173Z"
    }
   },
   "cell_type": "code",
   "source": [
    "tokenizer = BertTokenizer.from_pretrained('huawei-noah/TinyBERT_General_4L_312D')\n",
    "\n",
    "def tokenize_data(data):\n",
    "    return tokenizer(\n",
    "        data['text'].tolist(),\n",
    "        padding=True,\n",
    "        truncation=True,\n",
    "        max_length=512,\n",
    "        return_tensors='pt',\n",
    "    )\n",
    "\n",
    "train_encodings = tokenize_data(train_data)\n",
    "test_encodings = tokenize_data(test_data)"
   ],
   "id": "4024f491b6955e01",
   "outputs": [
    {
     "name": "stderr",
     "output_type": "stream",
     "text": [
      "C:\\Python312\\Lib\\site-packages\\transformers\\tokenization_utils_base.py:1617: FutureWarning: `clean_up_tokenization_spaces` was not set. It will be set to `True` by default. This behavior will be deprecated in transformers v4.45, and will be then set to `False` by default. For more details check this issue: https://github.com/huggingface/transformers/issues/31884\n",
      "  warnings.warn(\n"
     ]
    }
   ],
   "execution_count": 127
  },
  {
   "metadata": {},
   "cell_type": "markdown",
   "source": "# Create a Dataset class",
   "id": "45fa3395a266ff5d"
  },
  {
   "metadata": {
    "ExecuteTime": {
     "end_time": "2024-12-04T00:30:29.608482Z",
     "start_time": "2024-12-04T00:30:29.600153Z"
    }
   },
   "cell_type": "code",
   "source": [
    "class HumorDataset(torch.utils.data.Dataset):\n",
    "    def __init__(self, encodings, labels):\n",
    "        self.encodings = encodings\n",
    "        self.labels = labels\n",
    "\n",
    "    def __getitem__(self, idx):\n",
    "        item = {key: val[idx].clone().detach() for key, val in self.encodings.items()}\n",
    "        item['labels'] = torch.tensor(self.labels[idx]).clone().detach()\n",
    "        return item\n",
    "\n",
    "    def __len__(self):\n",
    "        return len(self.labels)"
   ],
   "id": "640a5615ad489a21",
   "outputs": [],
   "execution_count": 128
  },
  {
   "metadata": {},
   "cell_type": "markdown",
   "source": [
    "\n",
    "# Flatten\\ing (Kind of)"
   ],
   "id": "8d0e40aa1b0549a7"
  },
  {
   "metadata": {
    "ExecuteTime": {
     "end_time": "2024-12-04T00:30:29.812959Z",
     "start_time": "2024-12-04T00:30:29.803943Z"
    }
   },
   "cell_type": "code",
   "source": [
    "train_labels = train_data['humor'].astype(int).tolist()\n",
    "test_labels = test_data['humor'].astype(int).tolist()\n",
    "\n",
    "train_dataset = HumorDataset(train_encodings, train_labels)\n",
    "test_dataset = HumorDataset(test_encodings, test_labels)"
   ],
   "id": "6b7b9e541a64840c",
   "outputs": [],
   "execution_count": 129
  },
  {
   "metadata": {},
   "cell_type": "markdown",
   "source": "# Define the Model",
   "id": "6988dc8a09c079ed"
  },
  {
   "metadata": {
    "ExecuteTime": {
     "end_time": "2024-12-04T00:30:30.968334Z",
     "start_time": "2024-12-04T00:30:30.074842Z"
    }
   },
   "cell_type": "code",
   "source": "model = BertForSequenceClassification.from_pretrained('huawei-noah/TinyBERT_General_4L_312D', num_labels=2);",
   "id": "bbbbcdba4901510b",
   "outputs": [
    {
     "name": "stderr",
     "output_type": "stream",
     "text": [
      "Some weights of BertForSequenceClassification were not initialized from the model checkpoint at huawei-noah/TinyBERT_General_4L_312D and are newly initialized: ['classifier.bias', 'classifier.weight']\n",
      "You should probably TRAIN this model on a down-stream task to be able to use it for predictions and inference.\n"
     ]
    }
   ],
   "execution_count": 130
  },
  {
   "metadata": {},
   "cell_type": "markdown",
   "source": "# Initial Training",
   "id": "58ca4fa1c1bc0cce"
  },
  {
   "metadata": {
    "ExecuteTime": {
     "end_time": "2024-12-04T00:30:31.211578Z",
     "start_time": "2024-12-04T00:30:31.205279Z"
    }
   },
   "cell_type": "code",
   "source": [
    "def compute_metrics(p):\n",
    "    preds = p.predictions.argmax(-1)\n",
    "    labels = p.label_ids\n",
    "    f1 = f1_score(labels, preds, average='weighted')\n",
    "    accuracy = accuracy_score(labels, preds)\n",
    "    precision = precision_score(labels, preds, average='weighted')\n",
    "    sensitivity = recall_score(labels, preds, average='weighted')\n",
    "    \n",
    "    # Calculate BCE score\n",
    "    labels_tensor = torch.tensor(labels, dtype=torch.float32)\n",
    "    preds_tensor = torch.tensor(preds, dtype=torch.float32)\n",
    "    bce_score = F.binary_cross_entropy_with_logits(preds_tensor, labels_tensor).item()\n",
    "    \n",
    "    return {\n",
    "        \"f1\": f1,\n",
    "        \"accuracy\": accuracy,\n",
    "        \"precision\": precision,\n",
    "        \"sensitivity\": sensitivity,\n",
    "        \"bce_score\": bce_score\n",
    "    }"
   ],
   "id": "7ac16f5f6d68c641",
   "outputs": [],
   "execution_count": 131
  },
  {
   "metadata": {
    "ExecuteTime": {
     "end_time": "2024-12-04T02:28:00.402364Z",
     "start_time": "2024-12-04T02:28:00.074092Z"
    }
   },
   "cell_type": "code",
   "source": [
    "# Pre optimised training\n",
    "training_args = TrainingArguments(\n",
    "    output_dir='./results',\n",
    "    num_train_epochs=10,\n",
    "    per_device_train_batch_size=16,\n",
    "    per_device_eval_batch_size=16,\n",
    "    warmup_steps=600,\n",
    "    weight_decay=0.01,\n",
    "    logging_dir='./logs',\n",
    "    logging_steps=6000,\n",
    "    eval_strategy=\"steps\",  # Evaluate every `logging_steps`\n",
    "    eval_steps=6000,  # Evaluation and logging will be done every 100 steps\n",
    "    save_steps=10000,\n",
    "    save_total_limit=2,  # Only last 2 models are saved\n",
    "    device = 'cuda' if torch.cuda.is_available() else 'cpu' # Use GPU if available\n",
    ")\n",
    "\n",
    "trainer = Trainer(\n",
    "    model=model,\n",
    "    args=training_args,\n",
    "    train_dataset=train_dataset,\n",
    "    eval_dataset=test_dataset,\n",
    "    compute_metrics=compute_metrics\n",
    ")\n",
    "\n",
    "trainer.train()"
   ],
   "id": "4dc1b4d784bac44e",
   "outputs": [
    {
     "ename": "TypeError",
     "evalue": "TrainingArguments.__init__() got an unexpected keyword argument 'device'",
     "output_type": "error",
     "traceback": [
      "\u001B[1;31m---------------------------------------------------------------------------\u001B[0m",
      "\u001B[1;31mTypeError\u001B[0m                                 Traceback (most recent call last)",
      "Cell \u001B[1;32mIn[146], line 1\u001B[0m\n\u001B[1;32m----> 1\u001B[0m training_args \u001B[38;5;241m=\u001B[39m \u001B[43mTrainingArguments\u001B[49m\u001B[43m(\u001B[49m\n\u001B[0;32m      2\u001B[0m \u001B[43m    \u001B[49m\u001B[43moutput_dir\u001B[49m\u001B[38;5;241;43m=\u001B[39;49m\u001B[38;5;124;43m'\u001B[39;49m\u001B[38;5;124;43m./results\u001B[39;49m\u001B[38;5;124;43m'\u001B[39;49m\u001B[43m,\u001B[49m\n\u001B[0;32m      3\u001B[0m \u001B[43m    \u001B[49m\u001B[43mnum_train_epochs\u001B[49m\u001B[38;5;241;43m=\u001B[39;49m\u001B[38;5;241;43m10\u001B[39;49m\u001B[43m,\u001B[49m\n\u001B[0;32m      4\u001B[0m \u001B[43m    \u001B[49m\u001B[43mper_device_train_batch_size\u001B[49m\u001B[38;5;241;43m=\u001B[39;49m\u001B[38;5;241;43m16\u001B[39;49m\u001B[43m,\u001B[49m\n\u001B[0;32m      5\u001B[0m \u001B[43m    \u001B[49m\u001B[43mper_device_eval_batch_size\u001B[49m\u001B[38;5;241;43m=\u001B[39;49m\u001B[38;5;241;43m16\u001B[39;49m\u001B[43m,\u001B[49m\n\u001B[0;32m      6\u001B[0m \u001B[43m    \u001B[49m\u001B[43mwarmup_steps\u001B[49m\u001B[38;5;241;43m=\u001B[39;49m\u001B[38;5;241;43m600\u001B[39;49m\u001B[43m,\u001B[49m\n\u001B[0;32m      7\u001B[0m \u001B[43m    \u001B[49m\u001B[43mweight_decay\u001B[49m\u001B[38;5;241;43m=\u001B[39;49m\u001B[38;5;241;43m0.01\u001B[39;49m\u001B[43m,\u001B[49m\n\u001B[0;32m      8\u001B[0m \u001B[43m    \u001B[49m\u001B[43mlogging_dir\u001B[49m\u001B[38;5;241;43m=\u001B[39;49m\u001B[38;5;124;43m'\u001B[39;49m\u001B[38;5;124;43m./logs\u001B[39;49m\u001B[38;5;124;43m'\u001B[39;49m\u001B[43m,\u001B[49m\n\u001B[0;32m      9\u001B[0m \u001B[43m    \u001B[49m\u001B[43mlogging_steps\u001B[49m\u001B[38;5;241;43m=\u001B[39;49m\u001B[38;5;241;43m6000\u001B[39;49m\u001B[43m,\u001B[49m\n\u001B[0;32m     10\u001B[0m \u001B[43m    \u001B[49m\u001B[43meval_strategy\u001B[49m\u001B[38;5;241;43m=\u001B[39;49m\u001B[38;5;124;43m\"\u001B[39;49m\u001B[38;5;124;43msteps\u001B[39;49m\u001B[38;5;124;43m\"\u001B[39;49m\u001B[43m,\u001B[49m\u001B[43m  \u001B[49m\u001B[38;5;66;43;03m# Evaluate every `logging_steps`\u001B[39;49;00m\n\u001B[0;32m     11\u001B[0m \u001B[43m    \u001B[49m\u001B[43meval_steps\u001B[49m\u001B[38;5;241;43m=\u001B[39;49m\u001B[38;5;241;43m6000\u001B[39;49m\u001B[43m,\u001B[49m\u001B[43m  \u001B[49m\u001B[38;5;66;43;03m# Evaluation and logging will be done every 100 steps\u001B[39;49;00m\n\u001B[0;32m     12\u001B[0m \u001B[43m    \u001B[49m\u001B[43msave_steps\u001B[49m\u001B[38;5;241;43m=\u001B[39;49m\u001B[38;5;241;43m10000\u001B[39;49m\u001B[43m,\u001B[49m\n\u001B[0;32m     13\u001B[0m \u001B[43m    \u001B[49m\u001B[43msave_total_limit\u001B[49m\u001B[38;5;241;43m=\u001B[39;49m\u001B[38;5;241;43m2\u001B[39;49m\u001B[43m,\u001B[49m\u001B[43m  \u001B[49m\u001B[38;5;66;43;03m# Only last 2 models are saved\u001B[39;49;00m\n\u001B[0;32m     14\u001B[0m \u001B[43m    \u001B[49m\u001B[43mdevice\u001B[49m\u001B[43m \u001B[49m\u001B[38;5;241;43m=\u001B[39;49m\u001B[43m \u001B[49m\u001B[38;5;124;43m'\u001B[39;49m\u001B[38;5;124;43mcuda\u001B[39;49m\u001B[38;5;124;43m'\u001B[39;49m\u001B[43m \u001B[49m\u001B[38;5;28;43;01mif\u001B[39;49;00m\u001B[43m \u001B[49m\u001B[43mtorch\u001B[49m\u001B[38;5;241;43m.\u001B[39;49m\u001B[43mcuda\u001B[49m\u001B[38;5;241;43m.\u001B[39;49m\u001B[43mis_available\u001B[49m\u001B[43m(\u001B[49m\u001B[43m)\u001B[49m\u001B[43m \u001B[49m\u001B[38;5;28;43;01melse\u001B[39;49;00m\u001B[43m \u001B[49m\u001B[38;5;124;43m'\u001B[39;49m\u001B[38;5;124;43mcpu\u001B[39;49m\u001B[38;5;124;43m'\u001B[39;49m\u001B[43m \u001B[49m\u001B[38;5;66;43;03m# Use GPU if available\u001B[39;49;00m\n\u001B[0;32m     15\u001B[0m \u001B[43m)\u001B[49m\n\u001B[0;32m     17\u001B[0m trainer \u001B[38;5;241m=\u001B[39m Trainer(\n\u001B[0;32m     18\u001B[0m     model\u001B[38;5;241m=\u001B[39mmodel,\n\u001B[0;32m     19\u001B[0m     args\u001B[38;5;241m=\u001B[39mtraining_args,\n\u001B[1;32m   (...)\u001B[0m\n\u001B[0;32m     22\u001B[0m     compute_metrics\u001B[38;5;241m=\u001B[39mcompute_metrics\n\u001B[0;32m     23\u001B[0m )\n\u001B[0;32m     25\u001B[0m trainer\u001B[38;5;241m.\u001B[39mtrain()\n",
      "\u001B[1;31mTypeError\u001B[0m: TrainingArguments.__init__() got an unexpected keyword argument 'device'"
     ]
    }
   ],
   "execution_count": 146
  },
  {
   "metadata": {},
   "cell_type": "markdown",
   "source": "# Fine Tuning the Model",
   "id": "161f769a945834ce"
  },
  {
   "metadata": {
    "ExecuteTime": {
     "end_time": "2024-12-04T01:55:44.666834Z",
     "start_time": "2024-12-04T01:55:44.659543Z"
    }
   },
   "cell_type": "code",
   "source": [
    "# Use the torch.optim.AdamW optimizer\n",
    "optimizer = optim.AdamW(model.parameters(), lr=5e-5)"
   ],
   "id": "8004382a0912d5d8",
   "outputs": [],
   "execution_count": 133
  },
  {
   "metadata": {
    "ExecuteTime": {
     "end_time": "2024-12-04T01:55:44.846210Z",
     "start_time": "2024-12-04T01:55:44.840182Z"
    }
   },
   "cell_type": "code",
   "source": [
    "train_dataloader = DataLoader(train_dataset, batch_size=16, shuffle=True)\n",
    "test_dataloader = DataLoader(test_dataset, batch_size=16)"
   ],
   "id": "774c0a30864954b1",
   "outputs": [],
   "execution_count": 134
  },
  {
   "metadata": {
    "ExecuteTime": {
     "end_time": "2024-12-04T01:55:45.054174Z",
     "start_time": "2024-12-04T01:55:45.045711Z"
    }
   },
   "cell_type": "code",
   "source": [
    "# Use the get_scheduler function to create a linear scheduler\n",
    "num_training_steps = len(train_dataloader) * 3\n",
    "lr_scheduler = get_scheduler(\n",
    "    \"linear\",\n",
    "    optimizer=optimizer,\n",
    "    num_warmup_steps=0,\n",
    "    num_training_steps=num_training_steps\n",
    ")"
   ],
   "id": "76b5c620fbeb832d",
   "outputs": [],
   "execution_count": 135
  },
  {
   "metadata": {
    "ExecuteTime": {
     "end_time": "2024-12-04T01:55:45.249479Z",
     "start_time": "2024-12-04T01:55:45.244373Z"
    }
   },
   "cell_type": "code",
   "source": [
    "# Define the loss function\n",
    "loss_fn = CrossEntropyLoss()"
   ],
   "id": "fa9475eb1fb4a562",
   "outputs": [],
   "execution_count": 136
  },
  {
   "metadata": {},
   "cell_type": "markdown",
   "source": "# First Attempt at Optimizing",
   "id": "d5cde917aebaaeb0"
  },
  {
   "metadata": {
    "ExecuteTime": {
     "end_time": "2024-12-04T02:08:32.872741Z",
     "start_time": "2024-12-04T01:55:45.479444Z"
    }
   },
   "cell_type": "code",
   "source": [
    "# Implement the tuning\n",
    "device = torch.device('cuda') if torch.cuda.is_available() else torch.device('cpu')\n",
    "\n",
    "epochs = 3\n",
    "for epoch in range(epochs):\n",
    "    model.train()\n",
    "    for batch in tqdm(train_dataloader):\n",
    "        optimizer.zero_grad()\n",
    "        input_ids = batch['input_ids'].to(device)\n",
    "        attention_mask = batch['attention_mask'].to(device)\n",
    "        labels = batch['labels'].to(device)\n",
    "        outputs = model(input_ids, attention_mask=attention_mask, labels=labels)\n",
    "        loss = outputs.loss\n",
    "        loss.backward()\n",
    "        optimizer.step()\n",
    "        lr_scheduler.step()"
   ],
   "id": "b7f857330280ce1d",
   "outputs": [
    {
     "name": "stderr",
     "output_type": "stream",
     "text": [
      "100%|██████████| 10000/10000 [04:26<00:00, 37.46it/s]\n",
      "100%|██████████| 10000/10000 [04:12<00:00, 39.53it/s]\n",
      "100%|██████████| 10000/10000 [04:07<00:00, 40.42it/s]\n"
     ]
    }
   ],
   "execution_count": 137
  },
  {
   "metadata": {
    "ExecuteTime": {
     "end_time": "2024-12-04T02:08:49.690881Z",
     "start_time": "2024-12-04T02:08:33.043786Z"
    }
   },
   "cell_type": "code",
   "source": [
    "# Evaluate the model\n",
    "from sklearn.metrics import accuracy_score\n",
    "\n",
    "model.eval()\n",
    "predictions, true_labels = [], []\n",
    "for batch in test_dataloader:\n",
    "    batch = {k: v.to(device) for k, v in batch.items()}\n",
    "    with torch.no_grad():\n",
    "        outputs = model(**batch)\n",
    "    logits = outputs.logits\n",
    "    preds = torch.argmax(logits, dim=1)  # Convert logits to predicted labels  \n",
    "    predictions.append(preds)\n",
    "    true_labels.append(batch['labels'])"
   ],
   "id": "7ee19f34e311e80e",
   "outputs": [],
   "execution_count": 138
  },
  {
   "metadata": {
    "ExecuteTime": {
     "end_time": "2024-12-04T02:08:49.825071Z",
     "start_time": "2024-12-04T02:08:49.809546Z"
    }
   },
   "cell_type": "code",
   "source": [
    "# Convert lists of tensors to single tensors\n",
    "predictions = torch.cat(predictions, dim=0)\n",
    "true_labels = torch.cat(true_labels, dim=0)\n",
    "# Flatten the tensors\n",
    "predictions = predictions.view(-1).cpu().numpy()\n",
    "true_labels = true_labels.view(-1).cpu().numpy()"
   ],
   "id": "13237e19832adf18",
   "outputs": [],
   "execution_count": 139
  },
  {
   "metadata": {
    "ExecuteTime": {
     "end_time": "2024-12-04T02:08:49.999486Z",
     "start_time": "2024-12-04T02:08:49.942465Z"
    }
   },
   "cell_type": "code",
   "source": [
    "# Assuming `true_labels` and `predictions` are already defined\n",
    "f1 = f1_score(true_labels, predictions, average='weighted')\n",
    "accuracy = accuracy_score(true_labels, predictions)\n",
    "precision = precision_score(true_labels, predictions, average='weighted')\n",
    "sensitivity = recall_score(true_labels, predictions, average='weighted')\n",
    "\n",
    "# Calculate BCE score\n",
    "true_labels_tensor = torch.tensor(true_labels, dtype=torch.float32)\n",
    "predictions_tensor = torch.tensor(predictions, dtype=torch.float32)\n",
    "bce_score = F.binary_cross_entropy_with_logits(predictions_tensor, true_labels_tensor).item()\n",
    "\n",
    "# Print the metrics\n",
    "print(\"F1 Score:\", f1)\n",
    "print(f\"Accuracy: {accuracy}\")\n",
    "print(f\"Precision: {precision}\")\n",
    "print(f\"Sensitivity: {sensitivity}\")\n",
    "print(f\"BCE Score: {bce_score}\")"
   ],
   "id": "af9350a76addd00a",
   "outputs": [
    {
     "name": "stdout",
     "output_type": "stream",
     "text": [
      "F1 Score: 0.9814243437372862\n",
      "Accuracy: 0.981425\n",
      "Precision: 0.9814612633568486\n",
      "Sensitivity: 0.981425\n",
      "BCE Score: 0.5126692056655884\n"
     ]
    }
   ],
   "execution_count": 140
  },
  {
   "metadata": {},
   "cell_type": "markdown",
   "source": "# Second Attempt at Optimizing",
   "id": "e181d0c5c9802fcb"
  },
  {
   "metadata": {
    "ExecuteTime": {
     "end_time": "2024-12-04T02:27:42.617916Z",
     "start_time": "2024-12-04T02:08:50.164719Z"
    }
   },
   "cell_type": "code",
   "source": [
    "# Implement the tuning\n",
    "device = torch.device('cuda') if torch.cuda.is_available() else torch.device('cpu')\n",
    "\n",
    "epochs =10\n",
    "for epoch in range(epochs):\n",
    "    model.train()\n",
    "    for batch in tqdm(train_dataloader):\n",
    "        optimizer.zero_grad()\n",
    "        input_ids = batch['input_ids'].to(device)\n",
    "        attention_mask = batch['attention_mask'].to(device)\n",
    "        labels = batch['labels'].to(device)\n",
    "        outputs = model(input_ids, attention_mask=attention_mask, labels=labels)\n",
    "        loss = outputs.loss\n",
    "        loss.backward()\n",
    "        optimizer.step()\n",
    "        lr_scheduler.step()"
   ],
   "id": "6d428f7a87a92994",
   "outputs": [
    {
     "name": "stderr",
     "output_type": "stream",
     "text": [
      "100%|██████████| 10000/10000 [03:32<00:00, 46.97it/s]\n",
      "100%|██████████| 10000/10000 [03:31<00:00, 47.23it/s]\n",
      "100%|██████████| 10000/10000 [03:16<00:00, 50.77it/s]\n",
      "100%|██████████| 10000/10000 [04:04<00:00, 40.90it/s]\n",
      "100%|██████████| 10000/10000 [04:26<00:00, 37.54it/s]\n"
     ]
    }
   ],
   "execution_count": 141
  },
  {
   "metadata": {
    "ExecuteTime": {
     "end_time": "2024-12-04T02:27:59.440306Z",
     "start_time": "2024-12-04T02:27:42.788912Z"
    }
   },
   "cell_type": "code",
   "source": [
    "# Evaluate the model\n",
    "from sklearn.metrics import accuracy_score\n",
    "\n",
    "model.eval()\n",
    "predictions, true_labels = [], []\n",
    "for batch in test_dataloader:\n",
    "    batch = {k: v.to(device) for k, v in batch.items()}\n",
    "    with torch.no_grad():\n",
    "        outputs = model(**batch)\n",
    "    logits = outputs.logits\n",
    "    preds = torch.argmax(logits, dim=1)  # Convert logits to predicted labels  \n",
    "    predictions.append(preds)\n",
    "    true_labels.append(batch['labels'])"
   ],
   "id": "cf68336c2b2ed1fe",
   "outputs": [],
   "execution_count": 142
  },
  {
   "metadata": {
    "ExecuteTime": {
     "end_time": "2024-12-04T02:27:59.602960Z",
     "start_time": "2024-12-04T02:27:59.587862Z"
    }
   },
   "cell_type": "code",
   "source": [
    "# Convert lists of tensors to single tensors\n",
    "predictions = torch.cat(predictions, dim=0)\n",
    "true_labels = torch.cat(true_labels, dim=0)\n",
    "# Flatten the tensors\n",
    "predictions = predictions.view(-1).cpu().numpy()\n",
    "true_labels = true_labels.view(-1).cpu().numpy()"
   ],
   "id": "cf4af7be0d5f89b2",
   "outputs": [],
   "execution_count": 143
  },
  {
   "metadata": {
    "ExecuteTime": {
     "end_time": "2024-12-04T02:27:59.778474Z",
     "start_time": "2024-12-04T02:27:59.725848Z"
    }
   },
   "cell_type": "code",
   "source": [
    "# Assuming `true_labels` and `predictions` are already defined\n",
    "f1 = f1_score(true_labels, predictions, average='weighted')\n",
    "accuracy = accuracy_score(true_labels, predictions)\n",
    "precision = precision_score(true_labels, predictions, average='weighted')\n",
    "sensitivity = recall_score(true_labels, predictions, average='weighted')\n",
    "\n",
    "# Calculate BCE score\n",
    "true_labels_tensor = torch.tensor(true_labels, dtype=torch.float32)\n",
    "predictions_tensor = torch.tensor(predictions, dtype=torch.float32)\n",
    "bce_score = F.binary_cross_entropy_with_logits(predictions_tensor, true_labels_tensor).item()\n",
    "\n",
    "# Print the metrics\n",
    "print(f\"F1 Score: {f1}\")\n",
    "print(f\"Accuracy: {accuracy}\")\n",
    "print(f\"Precision: {precision}\")\n",
    "print(f\"Sensitivity: {sensitivity}\")\n",
    "print(f\"BCE Score: {bce_score}\")"
   ],
   "id": "82d534e87bc7292d",
   "outputs": [
    {
     "name": "stdout",
     "output_type": "stream",
     "text": [
      "F1 Score: 0.9814243437372862\n",
      "Accuracy: 0.981425\n",
      "Precision: 0.9814612633568486\n",
      "Sensitivity: 0.981425\n",
      "BCE Score: 0.5126692056655884\n"
     ]
    }
   ],
   "execution_count": 144
  },
  {
   "metadata": {
    "ExecuteTime": {
     "end_time": "2024-12-04T02:31:39.754505Z",
     "start_time": "2024-12-04T02:31:39.740236Z"
    }
   },
   "cell_type": "code",
   "source": [
    "# Tokenize the input sentence\n",
    "input_sentence = \"NLP303 Assessment 3 Report.\"\n",
    "inputs = tokenizer(input_sentence, return_tensors='pt', padding=True, truncation=True, max_length=512)\n",
    "\n",
    "# Move the inputs to the appropriate device\n",
    "inputs = {key: val.to(device) for key, val in inputs.items()}\n",
    "\n",
    "# Put the model in evaluation mode\n",
    "model.eval()\n",
    "\n",
    "# Get the model's predictions\n",
    "with torch.no_grad():\n",
    "    outputs = model(**inputs)\n",
    "    logits = outputs.logits\n",
    "    probabilities = F.softmax(logits, dim=1)\n",
    "\n",
    "# Get the probability of the text being humorous\n",
    "humorous_prob = probabilities[0][1].item()\n",
    "print(f\"Probability of text being humorous: {humorous_prob:.4f}\")"
   ],
   "id": "2e370abdfb15ddc6",
   "outputs": [
    {
     "name": "stdout",
     "output_type": "stream",
     "text": [
      "Probability of text being humorous: 0.0434\n"
     ]
    }
   ],
   "execution_count": 152
  },
  {
   "metadata": {
    "ExecuteTime": {
     "end_time": "2024-12-04T02:32:23.792070Z",
     "start_time": "2024-12-04T02:32:23.775407Z"
    }
   },
   "cell_type": "code",
   "source": [
    "# Tokenize the input sentence\n",
    "input_sentence = \"Two fish in a tank, one turns to the other and says; how the hell do you drive this thing?.\"\n",
    "inputs = tokenizer(input_sentence, return_tensors='pt', padding=True, truncation=True, max_length=512)\n",
    "\n",
    "# Move the inputs to the appropriate device\n",
    "inputs = {key: val.to(device) for key, val in inputs.items()}\n",
    "\n",
    "# Put the model in evaluation mode\n",
    "model.eval()\n",
    "\n",
    "# Get the model's predictions\n",
    "with torch.no_grad():\n",
    "    outputs = model(**inputs)\n",
    "    logits = outputs.logits\n",
    "    probabilities = F.softmax(logits, dim=1)\n",
    "\n",
    "# Get the probability of the text being humorous\n",
    "humorous_prob = probabilities[0][1].item()\n",
    "print(f\"Probability of text being humorous: {humorous_prob:.4f}\")"
   ],
   "id": "ea7666068cf4db3e",
   "outputs": [
    {
     "name": "stdout",
     "output_type": "stream",
     "text": [
      "Probability of text being humorous: 1.0000\n"
     ]
    }
   ],
   "execution_count": 153
  },
  {
   "metadata": {
    "ExecuteTime": {
     "end_time": "2024-12-04T02:27:59.940998Z",
     "start_time": "2024-12-04T02:27:59.934998Z"
    }
   },
   "cell_type": "code",
   "source": "#eof",
   "id": "15ba9546a5a1665c",
   "outputs": [],
   "execution_count": 145
  }
 ],
 "metadata": {
  "kernelspec": {
   "display_name": "Python 3",
   "language": "python",
   "name": "python3"
  },
  "language_info": {
   "codemirror_mode": {
    "name": "ipython",
    "version": 2
   },
   "file_extension": ".py",
   "mimetype": "text/x-python",
   "name": "python",
   "nbconvert_exporter": "python",
   "pygments_lexer": "ipython2",
   "version": "2.7.6"
  }
 },
 "nbformat": 4,
 "nbformat_minor": 5
}
