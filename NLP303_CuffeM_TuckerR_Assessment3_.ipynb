{
 "cells": [
  {
   "metadata": {},
   "cell_type": "markdown",
   "source": [
    "# DLE303 Assessment 3 - Main\n",
    "## Rachel Tucker & Michael Cuffe\n",
    "\n",
    "## Dependencies:\n",
    "- Python 3.12"
   ],
   "id": "f18c8814521629d8"
  },
  {
   "metadata": {
    "collapsed": true,
    "ExecuteTime": {
     "end_time": "2024-12-04T02:34:53.252262Z",
     "start_time": "2024-12-04T02:34:30.941965Z"
    }
   },
   "cell_type": "code",
   "source": [
    "%%capture\n",
    "!pip install transformers\n",
    "!pip install torch\n",
    "!pip install pandas\n",
    "!pip install numpy\n",
    "!pip install matplotlib\n",
    "!pip install seaborn"
   ],
   "id": "initial_id",
   "outputs": [],
   "execution_count": 154
  },
  {
   "metadata": {},
   "cell_type": "markdown",
   "source": "# import libraries",
   "id": "65f0e483f4df2f11"
  },
  {
   "metadata": {
    "ExecuteTime": {
     "end_time": "2024-12-04T02:34:53.387783Z",
     "start_time": "2024-12-04T02:34:53.382120Z"
    }
   },
   "cell_type": "code",
   "source": [
    "import transformers\n",
    "from transformers import trainer\n",
    "from torch.nn import CrossEntropyLoss\n",
    "from transformers import get_scheduler\n",
    "from sklearn.metrics import f1_score\n",
    "from sklearn.metrics import accuracy_score\n",
    "from tqdm import tqdm\n",
    "from accelerate.test_utils.scripts.test_distributed_data_loop import test_data_loader\n",
    "import torch\n",
    "import torch.optim as optim\n",
    "from transformers import BertTokenizer, BertForSequenceClassification, Trainer, TrainingArguments\n",
    "import pandas as pd\n",
    "from torch.utils.data import DataLoader\n",
    "from sklearn.metrics import f1_score, accuracy_score, precision_score, recall_score\n",
    "import torch.nn.functional as F"
   ],
   "id": "8332b4f6d36b055d",
   "outputs": [],
   "execution_count": 155
  },
  {
   "metadata": {
    "ExecuteTime": {
     "end_time": "2024-12-04T02:34:53.527553Z",
     "start_time": "2024-12-04T02:34:53.523213Z"
    }
   },
   "cell_type": "code",
   "source": [
    "# Ignore warnings after first viewing\n",
    "import warnings\n",
    "warnings.filterwarnings(action='once')"
   ],
   "id": "6f6d2c781bad2740",
   "outputs": [],
   "execution_count": 156
  },
  {
   "metadata": {},
   "cell_type": "markdown",
   "source": "# This is where we split the data into training and testing sets ",
   "id": "682e6f5b20d56cce"
  },
  {
   "metadata": {
    "ExecuteTime": {
     "end_time": "2024-12-04T02:34:53.949700Z",
     "start_time": "2024-12-04T02:34:53.659488Z"
    }
   },
   "cell_type": "code",
   "source": [
    "# Load the dataset\n",
    "data = pd.read_csv('data/200k_Short_Texts.csv')\n",
    "data = data.dropna()\n",
    "data = data.sample(frac=1).reset_index(drop=True)\n",
    "\n",
    "# Split the data into training and testing sets\n",
    "from sklearn.model_selection import train_test_split\n",
    "\n",
    "train_data, test_data = train_test_split(data, test_size=0.2, random_state=42)"
   ],
   "id": "346a5a687599700f",
   "outputs": [],
   "execution_count": 157
  },
  {
   "metadata": {},
   "cell_type": "markdown",
   "source": "# Tokenize the Data",
   "id": "28408db6075cf1d6"
  },
  {
   "metadata": {
    "ExecuteTime": {
     "end_time": "2024-12-04T02:35:31.969634Z",
     "start_time": "2024-12-04T02:34:54.085713Z"
    }
   },
   "cell_type": "code",
   "source": [
    "tokenizer = BertTokenizer.from_pretrained('huawei-noah/TinyBERT_General_4L_312D')\n",
    "\n",
    "def tokenize_data(data):\n",
    "    return tokenizer(\n",
    "        data['text'].tolist(),\n",
    "        padding=True,\n",
    "        truncation=True,\n",
    "        max_length=512,\n",
    "        return_tensors='pt',\n",
    "    )\n",
    "\n",
    "train_encodings = tokenize_data(train_data)\n",
    "test_encodings = tokenize_data(test_data)"
   ],
   "id": "4024f491b6955e01",
   "outputs": [
    {
     "name": "stderr",
     "output_type": "stream",
     "text": [
      "C:\\Python312\\Lib\\site-packages\\transformers\\tokenization_utils_base.py:1617: FutureWarning: `clean_up_tokenization_spaces` was not set. It will be set to `True` by default. This behavior will be deprecated in transformers v4.45, and will be then set to `False` by default. For more details check this issue: https://github.com/huggingface/transformers/issues/31884\n",
      "  warnings.warn(\n"
     ]
    }
   ],
   "execution_count": 158
  },
  {
   "metadata": {},
   "cell_type": "markdown",
   "source": "# Create a Dataset class",
   "id": "45fa3395a266ff5d"
  },
  {
   "metadata": {
    "ExecuteTime": {
     "end_time": "2024-12-04T02:35:32.105447Z",
     "start_time": "2024-12-04T02:35:32.101087Z"
    }
   },
   "cell_type": "code",
   "source": [
    "class HumorDataset(torch.utils.data.Dataset):\n",
    "    def __init__(self, encodings, labels):\n",
    "        self.encodings = encodings\n",
    "        self.labels = labels\n",
    "\n",
    "    def __getitem__(self, idx):\n",
    "        item = {key: val[idx].clone().detach() for key, val in self.encodings.items()}\n",
    "        item['labels'] = torch.tensor(self.labels[idx]).clone().detach()\n",
    "        return item\n",
    "\n",
    "    def __len__(self):\n",
    "        return len(self.labels)"
   ],
   "id": "640a5615ad489a21",
   "outputs": [],
   "execution_count": 159
  },
  {
   "metadata": {},
   "cell_type": "markdown",
   "source": [
    "\n",
    "# Flatten\\ing (Kind of)"
   ],
   "id": "8d0e40aa1b0549a7"
  },
  {
   "metadata": {
    "ExecuteTime": {
     "end_time": "2024-12-04T02:35:32.244394Z",
     "start_time": "2024-12-04T02:35:32.239507Z"
    }
   },
   "cell_type": "code",
   "source": [
    "train_labels = train_data['humor'].astype(int).tolist()\n",
    "test_labels = test_data['humor'].astype(int).tolist()\n",
    "\n",
    "train_dataset = HumorDataset(train_encodings, train_labels)\n",
    "test_dataset = HumorDataset(test_encodings, test_labels)"
   ],
   "id": "6b7b9e541a64840c",
   "outputs": [],
   "execution_count": 160
  },
  {
   "metadata": {},
   "cell_type": "markdown",
   "source": "# Define the Model",
   "id": "6988dc8a09c079ed"
  },
  {
   "metadata": {
    "ExecuteTime": {
     "end_time": "2024-12-04T02:35:33.117866Z",
     "start_time": "2024-12-04T02:35:32.380457Z"
    }
   },
   "cell_type": "code",
   "source": "model = BertForSequenceClassification.from_pretrained('huawei-noah/TinyBERT_General_4L_312D', num_labels=2);",
   "id": "bbbbcdba4901510b",
   "outputs": [
    {
     "name": "stderr",
     "output_type": "stream",
     "text": [
      "Some weights of BertForSequenceClassification were not initialized from the model checkpoint at huawei-noah/TinyBERT_General_4L_312D and are newly initialized: ['classifier.bias', 'classifier.weight']\n",
      "You should probably TRAIN this model on a down-stream task to be able to use it for predictions and inference.\n"
     ]
    }
   ],
   "execution_count": 161
  },
  {
   "metadata": {},
   "cell_type": "markdown",
   "source": "# Initial Training",
   "id": "58ca4fa1c1bc0cce"
  },
  {
   "metadata": {
    "ExecuteTime": {
     "end_time": "2024-12-04T02:35:33.496537Z",
     "start_time": "2024-12-04T02:35:33.493354Z"
    }
   },
   "cell_type": "code",
   "source": [
    "def compute_metrics(p):\n",
    "    preds = p.predictions.argmax(-1)\n",
    "    labels = p.label_ids\n",
    "    f1 = f1_score(labels, preds, average='weighted')\n",
    "    accuracy = accuracy_score(labels, preds)\n",
    "    precision = precision_score(labels, preds, average='weighted')\n",
    "    sensitivity = recall_score(labels, preds, average='weighted')\n",
    "    \n",
    "    # Calculate BCE score\n",
    "    labels_tensor = torch.tensor(labels, dtype=torch.float32)\n",
    "    preds_tensor = torch.tensor(preds, dtype=torch.float32)\n",
    "    bce_score = F.binary_cross_entropy_with_logits(preds_tensor, labels_tensor).item()\n",
    "    \n",
    "    return {\n",
    "        \"f1\": f1,\n",
    "        \"accuracy\": accuracy,\n",
    "        \"precision\": precision,\n",
    "        \"sensitivity\": sensitivity,\n",
    "        \"bce_score\": bce_score\n",
    "    }"
   ],
   "id": "7ac16f5f6d68c641",
   "outputs": [],
   "execution_count": 162
  },
  {
   "metadata": {
    "ExecuteTime": {
     "end_time": "2024-12-04T03:25:24.952190Z",
     "start_time": "2024-12-04T02:35:33.627222Z"
    }
   },
   "cell_type": "code",
   "source": [
    "# Pre optimised training\n",
    "training_args = TrainingArguments(\n",
    "    output_dir='./results',\n",
    "    num_train_epochs=10,\n",
    "    per_device_train_batch_size=16,\n",
    "    per_device_eval_batch_size=16,\n",
    "    warmup_steps=600,\n",
    "    weight_decay=0.01,\n",
    "    logging_dir='./logs',\n",
    "    logging_steps=6000,\n",
    "    eval_strategy=\"steps\",  # Evaluate every `logging_steps`\n",
    "    eval_steps=6000,  # Evaluation and logging will be done every 100 steps\n",
    "    save_steps=10000,\n",
    "    save_total_limit=2,  # Only last 2 models are saved\n",
    ")\n",
    "\n",
    "trainer = Trainer(\n",
    "    model=model,\n",
    "    args=training_args,\n",
    "    train_dataset=train_dataset,\n",
    "    eval_dataset=test_dataset,\n",
    "    compute_metrics=compute_metrics\n",
    ")\n",
    "\n",
    "trainer.train()"
   ],
   "id": "4dc1b4d784bac44e",
   "outputs": [
    {
     "data": {
      "text/plain": [
       "<IPython.core.display.HTML object>"
      ],
      "text/html": [
       "\n",
       "    <div>\n",
       "      \n",
       "      <progress value='100000' max='100000' style='width:300px; height:20px; vertical-align: middle;'></progress>\n",
       "      [100000/100000 49:50, Epoch 10/10]\n",
       "    </div>\n",
       "    <table border=\"1\" class=\"dataframe\">\n",
       "  <thead>\n",
       " <tr style=\"text-align: left;\">\n",
       "      <th>Step</th>\n",
       "      <th>Training Loss</th>\n",
       "      <th>Validation Loss</th>\n",
       "      <th>F1</th>\n",
       "      <th>Accuracy</th>\n",
       "      <th>Precision</th>\n",
       "      <th>Sensitivity</th>\n",
       "      <th>Bce Score</th>\n",
       "    </tr>\n",
       "  </thead>\n",
       "  <tbody>\n",
       "    <tr>\n",
       "      <td>6000</td>\n",
       "      <td>0.138100</td>\n",
       "      <td>0.162544</td>\n",
       "      <td>0.965593</td>\n",
       "      <td>0.965625</td>\n",
       "      <td>0.967139</td>\n",
       "      <td>0.965625</td>\n",
       "      <td>0.517668</td>\n",
       "    </tr>\n",
       "    <tr>\n",
       "      <td>12000</td>\n",
       "      <td>0.083600</td>\n",
       "      <td>0.071258</td>\n",
       "      <td>0.978546</td>\n",
       "      <td>0.978550</td>\n",
       "      <td>0.978824</td>\n",
       "      <td>0.978550</td>\n",
       "      <td>0.513191</td>\n",
       "    </tr>\n",
       "    <tr>\n",
       "      <td>18000</td>\n",
       "      <td>0.065000</td>\n",
       "      <td>0.082225</td>\n",
       "      <td>0.981350</td>\n",
       "      <td>0.981350</td>\n",
       "      <td>0.981351</td>\n",
       "      <td>0.981350</td>\n",
       "      <td>0.513142</td>\n",
       "    </tr>\n",
       "    <tr>\n",
       "      <td>24000</td>\n",
       "      <td>0.050700</td>\n",
       "      <td>0.095385</td>\n",
       "      <td>0.980274</td>\n",
       "      <td>0.980275</td>\n",
       "      <td>0.980305</td>\n",
       "      <td>0.980275</td>\n",
       "      <td>0.513292</td>\n",
       "    </tr>\n",
       "    <tr>\n",
       "      <td>30000</td>\n",
       "      <td>0.046700</td>\n",
       "      <td>0.093048</td>\n",
       "      <td>0.982050</td>\n",
       "      <td>0.982050</td>\n",
       "      <td>0.982073</td>\n",
       "      <td>0.982050</td>\n",
       "      <td>0.513297</td>\n",
       "    </tr>\n",
       "    <tr>\n",
       "      <td>36000</td>\n",
       "      <td>0.030800</td>\n",
       "      <td>0.103203</td>\n",
       "      <td>0.980948</td>\n",
       "      <td>0.980950</td>\n",
       "      <td>0.981077</td>\n",
       "      <td>0.980950</td>\n",
       "      <td>0.512453</td>\n",
       "    </tr>\n",
       "    <tr>\n",
       "      <td>42000</td>\n",
       "      <td>0.028200</td>\n",
       "      <td>0.122142</td>\n",
       "      <td>0.981425</td>\n",
       "      <td>0.981425</td>\n",
       "      <td>0.981429</td>\n",
       "      <td>0.981425</td>\n",
       "      <td>0.513354</td>\n",
       "    </tr>\n",
       "    <tr>\n",
       "      <td>48000</td>\n",
       "      <td>0.020700</td>\n",
       "      <td>0.107447</td>\n",
       "      <td>0.982475</td>\n",
       "      <td>0.982475</td>\n",
       "      <td>0.982478</td>\n",
       "      <td>0.982475</td>\n",
       "      <td>0.512523</td>\n",
       "    </tr>\n",
       "    <tr>\n",
       "      <td>54000</td>\n",
       "      <td>0.016600</td>\n",
       "      <td>0.143328</td>\n",
       "      <td>0.979473</td>\n",
       "      <td>0.979475</td>\n",
       "      <td>0.979593</td>\n",
       "      <td>0.979475</td>\n",
       "      <td>0.513224</td>\n",
       "    </tr>\n",
       "    <tr>\n",
       "      <td>60000</td>\n",
       "      <td>0.013600</td>\n",
       "      <td>0.124525</td>\n",
       "      <td>0.981124</td>\n",
       "      <td>0.981125</td>\n",
       "      <td>0.981169</td>\n",
       "      <td>0.981125</td>\n",
       "      <td>0.512765</td>\n",
       "    </tr>\n",
       "    <tr>\n",
       "      <td>66000</td>\n",
       "      <td>0.007700</td>\n",
       "      <td>0.164333</td>\n",
       "      <td>0.980624</td>\n",
       "      <td>0.980625</td>\n",
       "      <td>0.980706</td>\n",
       "      <td>0.980625</td>\n",
       "      <td>0.512811</td>\n",
       "    </tr>\n",
       "    <tr>\n",
       "      <td>72000</td>\n",
       "      <td>0.007200</td>\n",
       "      <td>0.185319</td>\n",
       "      <td>0.979148</td>\n",
       "      <td>0.979150</td>\n",
       "      <td>0.979294</td>\n",
       "      <td>0.979150</td>\n",
       "      <td>0.513287</td>\n",
       "    </tr>\n",
       "    <tr>\n",
       "      <td>78000</td>\n",
       "      <td>0.005900</td>\n",
       "      <td>0.176153</td>\n",
       "      <td>0.979673</td>\n",
       "      <td>0.979675</td>\n",
       "      <td>0.979833</td>\n",
       "      <td>0.979675</td>\n",
       "      <td>0.512974</td>\n",
       "    </tr>\n",
       "    <tr>\n",
       "      <td>84000</td>\n",
       "      <td>0.003400</td>\n",
       "      <td>0.185809</td>\n",
       "      <td>0.980148</td>\n",
       "      <td>0.980150</td>\n",
       "      <td>0.980260</td>\n",
       "      <td>0.980150</td>\n",
       "      <td>0.512919</td>\n",
       "    </tr>\n",
       "    <tr>\n",
       "      <td>90000</td>\n",
       "      <td>0.003200</td>\n",
       "      <td>0.181517</td>\n",
       "      <td>0.980650</td>\n",
       "      <td>0.980650</td>\n",
       "      <td>0.980658</td>\n",
       "      <td>0.980650</td>\n",
       "      <td>0.513330</td>\n",
       "    </tr>\n",
       "    <tr>\n",
       "      <td>96000</td>\n",
       "      <td>0.001900</td>\n",
       "      <td>0.190572</td>\n",
       "      <td>0.980448</td>\n",
       "      <td>0.980450</td>\n",
       "      <td>0.980550</td>\n",
       "      <td>0.980450</td>\n",
       "      <td>0.512811</td>\n",
       "    </tr>\n",
       "  </tbody>\n",
       "</table><p>"
      ]
     },
     "metadata": {},
     "output_type": "display_data"
    },
    {
     "data": {
      "text/plain": [
       "TrainOutput(global_step=100000, training_loss=0.03149638834953308, metrics={'train_runtime': 2990.9713, 'train_samples_per_second': 534.943, 'train_steps_per_second': 33.434, 'total_flos': 2598943065600000.0, 'train_loss': 0.03149638834953308, 'epoch': 10.0})"
      ]
     },
     "execution_count": 163,
     "metadata": {},
     "output_type": "execute_result"
    }
   ],
   "execution_count": 163
  },
  {
   "metadata": {},
   "cell_type": "markdown",
   "source": "# Fine Tuning the Model",
   "id": "161f769a945834ce"
  },
  {
   "metadata": {
    "ExecuteTime": {
     "end_time": "2024-12-04T03:25:25.184571Z",
     "start_time": "2024-12-04T03:25:25.177034Z"
    }
   },
   "cell_type": "code",
   "source": [
    "# Use the torch.optim.AdamW optimizer\n",
    "optimizer = optim.AdamW(model.parameters(), lr=5e-5)"
   ],
   "id": "8004382a0912d5d8",
   "outputs": [],
   "execution_count": 164
  },
  {
   "metadata": {
    "ExecuteTime": {
     "end_time": "2024-12-04T03:25:25.321779Z",
     "start_time": "2024-12-04T03:25:25.313488Z"
    }
   },
   "cell_type": "code",
   "source": [
    "train_dataloader = DataLoader(train_dataset, batch_size=16, shuffle=True)\n",
    "test_dataloader = DataLoader(test_dataset, batch_size=16)"
   ],
   "id": "774c0a30864954b1",
   "outputs": [],
   "execution_count": 165
  },
  {
   "metadata": {
    "ExecuteTime": {
     "end_time": "2024-12-04T03:25:25.462385Z",
     "start_time": "2024-12-04T03:25:25.454605Z"
    }
   },
   "cell_type": "code",
   "source": [
    "# Use the get_scheduler function to create a linear scheduler\n",
    "num_training_steps = len(train_dataloader) * 3\n",
    "lr_scheduler = get_scheduler(\n",
    "    \"linear\",\n",
    "    optimizer=optimizer,\n",
    "    num_warmup_steps=0,\n",
    "    num_training_steps=num_training_steps\n",
    ")"
   ],
   "id": "76b5c620fbeb832d",
   "outputs": [],
   "execution_count": 166
  },
  {
   "metadata": {
    "ExecuteTime": {
     "end_time": "2024-12-04T03:25:25.613552Z",
     "start_time": "2024-12-04T03:25:25.608879Z"
    }
   },
   "cell_type": "code",
   "source": [
    "# Define the loss function\n",
    "loss_fn = CrossEntropyLoss()"
   ],
   "id": "fa9475eb1fb4a562",
   "outputs": [],
   "execution_count": 167
  },
  {
   "metadata": {},
   "cell_type": "markdown",
   "source": "# First Attempt at Optimizing",
   "id": "d5cde917aebaaeb0"
  },
  {
   "metadata": {
    "ExecuteTime": {
     "end_time": "2024-12-04T03:41:33.211956Z",
     "start_time": "2024-12-04T03:25:25.749111Z"
    }
   },
   "cell_type": "code",
   "source": [
    "# Implement the tuning\n",
    "device = torch.device('cuda') if torch.cuda.is_available() else torch.device('cpu')\n",
    "\n",
    "epochs = 3\n",
    "for epoch in range(epochs):\n",
    "    model.train()\n",
    "    for batch in tqdm(train_dataloader):\n",
    "        optimizer.zero_grad()\n",
    "        input_ids = batch['input_ids'].to(device)\n",
    "        attention_mask = batch['attention_mask'].to(device)\n",
    "        labels = batch['labels'].to(device)\n",
    "        outputs = model(input_ids, attention_mask=attention_mask, labels=labels)\n",
    "        loss = outputs.loss\n",
    "        loss.backward()\n",
    "        optimizer.step()\n",
    "        lr_scheduler.step()"
   ],
   "id": "b7f857330280ce1d",
   "outputs": [
    {
     "name": "stderr",
     "output_type": "stream",
     "text": [
      "100%|██████████| 10000/10000 [05:02<00:00, 33.02it/s]\n",
      "100%|██████████| 10000/10000 [05:40<00:00, 29.40it/s]\n",
      "100%|██████████| 10000/10000 [05:24<00:00, 30.81it/s]\n"
     ]
    }
   ],
   "execution_count": 168
  },
  {
   "metadata": {
    "ExecuteTime": {
     "end_time": "2024-12-04T03:42:08.834643Z",
     "start_time": "2024-12-04T03:41:33.400482Z"
    }
   },
   "cell_type": "code",
   "source": [
    "# Evaluate the model\n",
    "from sklearn.metrics import accuracy_score\n",
    "\n",
    "model.eval()\n",
    "predictions, true_labels = [], []\n",
    "for batch in test_dataloader:\n",
    "    batch = {k: v.to(device) for k, v in batch.items()}\n",
    "    with torch.no_grad():\n",
    "        outputs = model(**batch)\n",
    "    logits = outputs.logits\n",
    "    preds = torch.argmax(logits, dim=1)  # Convert logits to predicted labels  \n",
    "    predictions.append(preds)\n",
    "    true_labels.append(batch['labels'])"
   ],
   "id": "7ee19f34e311e80e",
   "outputs": [],
   "execution_count": 169
  },
  {
   "metadata": {
    "ExecuteTime": {
     "end_time": "2024-12-04T03:42:09.064297Z",
     "start_time": "2024-12-04T03:42:09.046651Z"
    }
   },
   "cell_type": "code",
   "source": [
    "# Convert lists of tensors to single tensors\n",
    "predictions = torch.cat(predictions, dim=0)\n",
    "true_labels = torch.cat(true_labels, dim=0)\n",
    "# Flatten the tensors\n",
    "predictions = predictions.view(-1).cpu().numpy()\n",
    "true_labels = true_labels.view(-1).cpu().numpy()"
   ],
   "id": "13237e19832adf18",
   "outputs": [],
   "execution_count": 170
  },
  {
   "metadata": {
    "ExecuteTime": {
     "end_time": "2024-12-04T03:42:09.346613Z",
     "start_time": "2024-12-04T03:42:09.279512Z"
    }
   },
   "cell_type": "code",
   "source": [
    "# Assuming `true_labels` and `predictions` are already defined\n",
    "f1 = f1_score(true_labels, predictions, average='weighted')\n",
    "accuracy = accuracy_score(true_labels, predictions)\n",
    "precision = precision_score(true_labels, predictions, average='weighted')\n",
    "sensitivity = recall_score(true_labels, predictions, average='weighted')\n",
    "\n",
    "# Calculate BCE score\n",
    "true_labels_tensor = torch.tensor(true_labels, dtype=torch.float32)\n",
    "predictions_tensor = torch.tensor(predictions, dtype=torch.float32)\n",
    "bce_score = F.binary_cross_entropy_with_logits(predictions_tensor, true_labels_tensor).item()\n",
    "\n",
    "# Print the metrics\n",
    "print(\"F1 Score:\", f1)\n",
    "print(f\"Accuracy: {accuracy}\")\n",
    "print(f\"Precision: {precision}\")\n",
    "print(f\"Sensitivity: {sensitivity}\")\n",
    "print(f\"BCE Score: {bce_score}\")"
   ],
   "id": "af9350a76addd00a",
   "outputs": [
    {
     "name": "stdout",
     "output_type": "stream",
     "text": [
      "F1 Score: 0.9813994907041109\n",
      "Accuracy: 0.9814\n",
      "Precision: 0.9814258553816416\n",
      "Sensitivity: 0.9814\n",
      "BCE Score: 0.5127627849578857\n"
     ]
    }
   ],
   "execution_count": 171
  },
  {
   "metadata": {},
   "cell_type": "markdown",
   "source": "# Second Attempt at Optimizing",
   "id": "e181d0c5c9802fcb"
  },
  {
   "metadata": {
    "ExecuteTime": {
     "end_time": "2024-12-04T04:23:23.211564Z",
     "start_time": "2024-12-04T03:42:09.554166Z"
    }
   },
   "cell_type": "code",
   "source": [
    "# Implement the tuning\n",
    "device = torch.device('cuda') if torch.cuda.is_available() else torch.device('cpu')\n",
    "\n",
    "epochs =10\n",
    "for epoch in range(epochs):\n",
    "    model.train()\n",
    "    for batch in tqdm(train_dataloader):\n",
    "        optimizer.zero_grad()\n",
    "        input_ids = batch['input_ids'].to(device)\n",
    "        attention_mask = batch['attention_mask'].to(device)\n",
    "        labels = batch['labels'].to(device)\n",
    "        outputs = model(input_ids, attention_mask=attention_mask, labels=labels)\n",
    "        loss = outputs.loss\n",
    "        loss.backward()\n",
    "        optimizer.step()\n",
    "        lr_scheduler.step()"
   ],
   "id": "6d428f7a87a92994",
   "outputs": [
    {
     "name": "stderr",
     "output_type": "stream",
     "text": [
      "100%|██████████| 10000/10000 [04:07<00:00, 40.44it/s]\n",
      "100%|██████████| 10000/10000 [04:20<00:00, 38.43it/s]\n",
      "100%|██████████| 10000/10000 [05:30<00:00, 30.25it/s]\n",
      "100%|██████████| 10000/10000 [04:46<00:00, 34.91it/s]\n",
      "100%|██████████| 10000/10000 [04:05<00:00, 40.73it/s]\n",
      "100%|██████████| 10000/10000 [03:50<00:00, 43.32it/s]\n",
      "100%|██████████| 10000/10000 [03:41<00:00, 45.19it/s]\n",
      "100%|██████████| 10000/10000 [03:27<00:00, 48.19it/s]\n",
      "100%|██████████| 10000/10000 [03:30<00:00, 47.44it/s]\n",
      "100%|██████████| 10000/10000 [03:53<00:00, 42.89it/s]\n"
     ]
    }
   ],
   "execution_count": 172
  },
  {
   "metadata": {
    "ExecuteTime": {
     "end_time": "2024-12-04T04:23:36.535542Z",
     "start_time": "2024-12-04T04:23:23.400228Z"
    }
   },
   "cell_type": "code",
   "source": [
    "# Evaluate the model\n",
    "from sklearn.metrics import accuracy_score\n",
    "\n",
    "model.eval()\n",
    "predictions, true_labels = [], []\n",
    "for batch in test_dataloader:\n",
    "    batch = {k: v.to(device) for k, v in batch.items()}\n",
    "    with torch.no_grad():\n",
    "        outputs = model(**batch)\n",
    "    logits = outputs.logits\n",
    "    preds = torch.argmax(logits, dim=1)  # Convert logits to predicted labels  \n",
    "    predictions.append(preds)\n",
    "    true_labels.append(batch['labels'])"
   ],
   "id": "cf68336c2b2ed1fe",
   "outputs": [],
   "execution_count": 173
  },
  {
   "metadata": {
    "ExecuteTime": {
     "end_time": "2024-12-04T04:23:36.654595Z",
     "start_time": "2024-12-04T04:23:36.642531Z"
    }
   },
   "cell_type": "code",
   "source": [
    "# Convert lists of tensors to single tensors\n",
    "predictions = torch.cat(predictions, dim=0)\n",
    "true_labels = torch.cat(true_labels, dim=0)\n",
    "# Flatten the tensors\n",
    "predictions = predictions.view(-1).cpu().numpy()\n",
    "true_labels = true_labels.view(-1).cpu().numpy()"
   ],
   "id": "cf4af7be0d5f89b2",
   "outputs": [],
   "execution_count": 174
  },
  {
   "metadata": {
    "ExecuteTime": {
     "end_time": "2024-12-04T04:23:36.806651Z",
     "start_time": "2024-12-04T04:23:36.758855Z"
    }
   },
   "cell_type": "code",
   "source": [
    "# Assuming `true_labels` and `predictions` are already defined\n",
    "f1 = f1_score(true_labels, predictions, average='weighted')\n",
    "accuracy = accuracy_score(true_labels, predictions)\n",
    "precision = precision_score(true_labels, predictions, average='weighted')\n",
    "sensitivity = recall_score(true_labels, predictions, average='weighted')\n",
    "\n",
    "# Calculate BCE score\n",
    "true_labels_tensor = torch.tensor(true_labels, dtype=torch.float32)\n",
    "predictions_tensor = torch.tensor(predictions, dtype=torch.float32)\n",
    "bce_score = F.binary_cross_entropy_with_logits(predictions_tensor, true_labels_tensor).item()\n",
    "\n",
    "# Print the metrics\n",
    "print(f\"F1 Score: {f1}\")\n",
    "print(f\"Accuracy: {accuracy}\")\n",
    "print(f\"Precision: {precision}\")\n",
    "print(f\"Sensitivity: {sensitivity}\")\n",
    "print(f\"BCE Score: {bce_score}\")"
   ],
   "id": "82d534e87bc7292d",
   "outputs": [
    {
     "name": "stdout",
     "output_type": "stream",
     "text": [
      "F1 Score: 0.9813994907041109\n",
      "Accuracy: 0.9814\n",
      "Precision: 0.9814258553816416\n",
      "Sensitivity: 0.9814\n",
      "BCE Score: 0.5127627849578857\n"
     ]
    }
   ],
   "execution_count": 175
  },
  {
   "metadata": {
    "ExecuteTime": {
     "end_time": "2024-12-04T09:44:58.393442Z",
     "start_time": "2024-12-04T09:44:58.382453Z"
    }
   },
   "cell_type": "code",
   "source": [
    "# Tokenize the input sentence\n",
    "input_sentence = \"NLP 303 Assessment 3 Report was incredibly difficult.\"\n",
    "inputs = tokenizer(input_sentence, return_tensors='pt', padding=True, truncation=True, max_length=512)\n",
    "\n",
    "# Move the inputs to the appropriate device\n",
    "inputs = {key: val.to(device) for key, val in inputs.items()}\n",
    "\n",
    "# Put the model in evaluation mode\n",
    "model.eval()\n",
    "\n",
    "# Get the model's predictions\n",
    "with torch.no_grad():\n",
    "    outputs = model(**inputs)\n",
    "    logits = outputs.logits\n",
    "    probabilities = F.softmax(logits, dim=1)\n",
    "\n",
    "# Get the probability of the text being humorous\n",
    "humorous_prob = probabilities[0][1].item()\n",
    "print(f\"Probability of text being humorous: {humorous_prob:.4f}\")"
   ],
   "id": "2e370abdfb15ddc6",
   "outputs": [
    {
     "name": "stdout",
     "output_type": "stream",
     "text": [
      "Probability of text being humorous: 0.0333\n"
     ]
    }
   ],
   "execution_count": 185
  },
  {
   "metadata": {
    "ExecuteTime": {
     "end_time": "2024-12-04T04:23:37.093781Z",
     "start_time": "2024-12-04T04:23:37.080959Z"
    }
   },
   "cell_type": "code",
   "source": [
    "# Tokenize the input sentence\n",
    "input_sentence = \"Two fish in a tank, one turns to the other and says; how the hell do you drive this thing?\"\n",
    "inputs = tokenizer(input_sentence, return_tensors='pt', padding=True, truncation=True, max_length=512)\n",
    "\n",
    "# Move the inputs to the appropriate device\n",
    "inputs = {key: val.to(device) for key, val in inputs.items()}\n",
    "\n",
    "# Put the model in evaluation mode\n",
    "model.eval()\n",
    "\n",
    "# Get the model's predictions\n",
    "with torch.no_grad():\n",
    "    outputs = model(**inputs)\n",
    "    logits = outputs.logits\n",
    "    probabilities = F.softmax(logits, dim=1)\n",
    "\n",
    "# Get the probability of the text being humorous\n",
    "humorous_prob = probabilities[0][1].item()\n",
    "print(f\"Probability of text being humorous: {humorous_prob:.4f}\")"
   ],
   "id": "ea7666068cf4db3e",
   "outputs": [
    {
     "name": "stdout",
     "output_type": "stream",
     "text": [
      "Probability of text being humorous: 1.0000\n"
     ]
    }
   ],
   "execution_count": 177
  },
  {
   "metadata": {
    "ExecuteTime": {
     "end_time": "2024-12-04T04:23:37.219432Z",
     "start_time": "2024-12-04T04:23:37.214066Z"
    }
   },
   "cell_type": "code",
   "source": "#eof",
   "id": "15ba9546a5a1665c",
   "outputs": [],
   "execution_count": 178
  }
 ],
 "metadata": {
  "kernelspec": {
   "display_name": "Python 3",
   "language": "python",
   "name": "python3"
  },
  "language_info": {
   "codemirror_mode": {
    "name": "ipython",
    "version": 2
   },
   "file_extension": ".py",
   "mimetype": "text/x-python",
   "name": "python",
   "nbconvert_exporter": "python",
   "pygments_lexer": "ipython2",
   "version": "2.7.6"
  }
 },
 "nbformat": 4,
 "nbformat_minor": 5
}
