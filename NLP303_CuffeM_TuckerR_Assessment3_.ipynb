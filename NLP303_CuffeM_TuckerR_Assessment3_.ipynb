{
 "cells": [
  {
   "metadata": {},
   "cell_type": "markdown",
   "source": [
    "# DLE303 Assessment 3 - Main\n",
    "## Rachel Tucker & Michael Cuffe\n",
    "\n",
    "## Dependencies:\n",
    "- Python 3.12"
   ],
   "id": "f18c8814521629d8"
  },
  {
   "metadata": {
    "collapsed": true,
    "ExecuteTime": {
     "end_time": "2024-12-03T03:43:38.491616Z",
     "start_time": "2024-12-03T03:43:14.604560Z"
    }
   },
   "cell_type": "code",
   "source": [
    "%%capture\n",
    "!pip install transformers\n",
    "!pip install torch\n",
    "!pip install pandas\n",
    "!pip install numpy\n",
    "!pip install matplotlib\n",
    "!pip install seaborn"
   ],
   "id": "initial_id",
   "outputs": [],
   "execution_count": 40
  },
  {
   "metadata": {},
   "cell_type": "markdown",
   "source": "# import libraries",
   "id": "65f0e483f4df2f11"
  },
  {
   "metadata": {
    "ExecuteTime": {
     "end_time": "2024-12-03T04:07:24.635229Z",
     "start_time": "2024-12-03T04:07:24.631076Z"
    }
   },
   "cell_type": "code",
   "source": [
    "import transformers\n",
    "from transformers import trainer\n",
    "from torch.nn import CrossEntropyLoss\n",
    "from transformers import get_scheduler\n",
    "from sklearn.metrics import f1_score\n",
    "from sklearn.metrics import accuracy_score\n",
    "from tqdm import tqdm\n",
    "from accelerate.test_utils.scripts.test_distributed_data_loop import test_data_loader\n",
    "import torch\n",
    "import torch.optim as optim\n",
    "from transformers import BertTokenizer, BertForSequenceClassification, Trainer, TrainingArguments\n",
    "import pandas as pd\n",
    "from torch.utils.data import DataLoader"
   ],
   "id": "8332b4f6d36b055d",
   "outputs": [],
   "execution_count": 54
  },
  {
   "metadata": {
    "ExecuteTime": {
     "end_time": "2024-12-03T03:43:38.581203Z",
     "start_time": "2024-12-03T03:43:38.574060Z"
    }
   },
   "cell_type": "code",
   "source": [
    "# Ignore warnings after first viewing\n",
    "import warnings\n",
    "warnings.filterwarnings(action='once')"
   ],
   "id": "6f6d2c781bad2740",
   "outputs": [],
   "execution_count": 42
  },
  {
   "metadata": {},
   "cell_type": "markdown",
   "source": "# This is where we split the data into training and testing sets ",
   "id": "682e6f5b20d56cce"
  },
  {
   "metadata": {
    "ExecuteTime": {
     "end_time": "2024-12-03T03:43:38.973133Z",
     "start_time": "2024-12-03T03:43:38.592210Z"
    }
   },
   "cell_type": "code",
   "source": [
    "# Load the dataset\n",
    "data = pd.read_csv('data/200k_Short_Texts.csv')\n",
    "data = data.dropna()\n",
    "data = data.sample(frac=1).reset_index(drop=True)\n",
    "\n",
    "# Split the data into training and testing sets\n",
    "from sklearn.model_selection import train_test_split\n",
    "\n",
    "train_data, test_data = train_test_split(data, test_size=0.2, random_state=42)"
   ],
   "id": "346a5a687599700f",
   "outputs": [],
   "execution_count": 43
  },
  {
   "metadata": {},
   "cell_type": "markdown",
   "source": "# Tokenize the Data",
   "id": "28408db6075cf1d6"
  },
  {
   "metadata": {
    "ExecuteTime": {
     "end_time": "2024-12-03T03:44:40.770343Z",
     "start_time": "2024-12-03T03:43:38.994032Z"
    }
   },
   "cell_type": "code",
   "source": [
    "tokenizer = BertTokenizer.from_pretrained('huawei-noah/TinyBERT_General_4L_312D')\n",
    "\n",
    "def tokenize_data(data):\n",
    "    return tokenizer(\n",
    "        data['text'].tolist(),\n",
    "        padding=True,\n",
    "        truncation=True,\n",
    "        max_length=512,\n",
    "        return_tensors='pt',\n",
    "    )\n",
    "\n",
    "train_encodings = tokenize_data(train_data)\n",
    "test_encodings = tokenize_data(test_data)"
   ],
   "id": "4024f491b6955e01",
   "outputs": [
    {
     "name": "stderr",
     "output_type": "stream",
     "text": [
      "C:\\Python312\\Lib\\site-packages\\transformers\\tokenization_utils_base.py:1617: FutureWarning: `clean_up_tokenization_spaces` was not set. It will be set to `True` by default. This behavior will be deprecated in transformers v4.45, and will be then set to `False` by default. For more details check this issue: https://github.com/huggingface/transformers/issues/31884\n",
      "  warnings.warn(\n"
     ]
    }
   ],
   "execution_count": 44
  },
  {
   "metadata": {},
   "cell_type": "markdown",
   "source": "# Create a Dataset class",
   "id": "45fa3395a266ff5d"
  },
  {
   "metadata": {
    "ExecuteTime": {
     "end_time": "2024-12-03T03:44:40.812413Z",
     "start_time": "2024-12-03T03:44:40.804165Z"
    }
   },
   "cell_type": "code",
   "source": [
    "class HumorDataset(torch.utils.data.Dataset):\n",
    "    def __init__(self, encodings, labels):\n",
    "        self.encodings = encodings\n",
    "        self.labels = labels\n",
    "\n",
    "    def __getitem__(self, idx):\n",
    "        item = {key: val[idx].clone().detach() for key, val in self.encodings.items()}\n",
    "        item['labels'] = torch.tensor(self.labels[idx]).clone().detach()\n",
    "        return item\n",
    "\n",
    "    def __len__(self):\n",
    "        return len(self.labels)"
   ],
   "id": "640a5615ad489a21",
   "outputs": [],
   "execution_count": 45
  },
  {
   "metadata": {},
   "cell_type": "markdown",
   "source": [
    "\n",
    "# Flatten\\ing (Kind of)"
   ],
   "id": "8d0e40aa1b0549a7"
  },
  {
   "metadata": {
    "ExecuteTime": {
     "end_time": "2024-12-03T03:44:40.869643Z",
     "start_time": "2024-12-03T03:44:40.859165Z"
    }
   },
   "cell_type": "code",
   "source": [
    "train_labels = train_data['humor'].astype(int).tolist()\n",
    "test_labels = test_data['humor'].astype(int).tolist()\n",
    "\n",
    "train_dataset = HumorDataset(train_encodings, train_labels)\n",
    "test_dataset = HumorDataset(test_encodings, test_labels)"
   ],
   "id": "6b7b9e541a64840c",
   "outputs": [],
   "execution_count": 46
  },
  {
   "metadata": {},
   "cell_type": "markdown",
   "source": "# Define the Model",
   "id": "6988dc8a09c079ed"
  },
  {
   "metadata": {
    "ExecuteTime": {
     "end_time": "2024-12-03T03:44:41.625950Z",
     "start_time": "2024-12-03T03:44:40.898281Z"
    }
   },
   "cell_type": "code",
   "source": "model = BertForSequenceClassification.from_pretrained('huawei-noah/TinyBERT_General_4L_312D', num_labels=2);",
   "id": "bbbbcdba4901510b",
   "outputs": [
    {
     "name": "stderr",
     "output_type": "stream",
     "text": [
      "Some weights of BertForSequenceClassification were not initialized from the model checkpoint at huawei-noah/TinyBERT_General_4L_312D and are newly initialized: ['classifier.bias', 'classifier.weight']\n",
      "You should probably TRAIN this model on a down-stream task to be able to use it for predictions and inference.\n"
     ]
    }
   ],
   "execution_count": 47
  },
  {
   "metadata": {},
   "cell_type": "markdown",
   "source": "# Initial Training",
   "id": "58ca4fa1c1bc0cce"
  },
  {
   "metadata": {
    "ExecuteTime": {
     "end_time": "2024-12-03T03:44:41.645867Z",
     "start_time": "2024-12-03T03:44:41.641205Z"
    }
   },
   "cell_type": "code",
   "source": [
    "# F1 score\n",
    "def compute_metrics(p):\n",
    "    preds = p.predictions.argmax(-1)\n",
    "    labels = p.label_ids\n",
    "    f1 = f1_score(labels, preds, average='weighted')\n",
    "    return {\"f1\": f1}"
   ],
   "id": "7ac16f5f6d68c641",
   "outputs": [],
   "execution_count": 48
  },
  {
   "metadata": {
    "ExecuteTime": {
     "end_time": "2024-12-03T04:00:43.284982Z",
     "start_time": "2024-12-03T03:44:41.665496Z"
    }
   },
   "cell_type": "code",
   "source": [
    "training_args = TrainingArguments(\n",
    "    output_dir='./results',\n",
    "    num_train_epochs=3,\n",
    "    per_device_train_batch_size=16,\n",
    "    per_device_eval_batch_size=16,\n",
    "    warmup_steps=600,\n",
    "    weight_decay=0.01,\n",
    "    logging_dir='./logs',\n",
    "    logging_steps=6000,\n",
    "    eval_strategy=\"steps\",  # Evaluate every `logging_steps`\n",
    "    eval_steps=6000,  # Evaluation and logging will be done every 100 steps\n",
    "    save_steps=10000,\n",
    "    save_total_limit=2,  # Only last 2 models are saved\n",
    ")\n",
    "\n",
    "trainer = Trainer(\n",
    "    model=model,\n",
    "    args=training_args,\n",
    "    train_dataset=train_dataset,\n",
    "    eval_dataset=test_dataset,\n",
    "    compute_metrics=compute_metrics\n",
    ")\n",
    "\n",
    "trainer.train()"
   ],
   "id": "4dc1b4d784bac44e",
   "outputs": [
    {
     "data": {
      "text/plain": [
       "<IPython.core.display.HTML object>"
      ],
      "text/html": [
       "\n",
       "    <div>\n",
       "      \n",
       "      <progress value='30000' max='30000' style='width:300px; height:20px; vertical-align: middle;'></progress>\n",
       "      [30000/30000 16:00, Epoch 3/3]\n",
       "    </div>\n",
       "    <table border=\"1\" class=\"dataframe\">\n",
       "  <thead>\n",
       " <tr style=\"text-align: left;\">\n",
       "      <th>Step</th>\n",
       "      <th>Training Loss</th>\n",
       "      <th>Validation Loss</th>\n",
       "      <th>F1</th>\n",
       "    </tr>\n",
       "  </thead>\n",
       "  <tbody>\n",
       "    <tr>\n",
       "      <td>6000</td>\n",
       "      <td>0.137800</td>\n",
       "      <td>0.129140</td>\n",
       "      <td>0.969081</td>\n",
       "    </tr>\n",
       "    <tr>\n",
       "      <td>12000</td>\n",
       "      <td>0.081600</td>\n",
       "      <td>0.098598</td>\n",
       "      <td>0.974539</td>\n",
       "    </tr>\n",
       "    <tr>\n",
       "      <td>18000</td>\n",
       "      <td>0.061500</td>\n",
       "      <td>0.079134</td>\n",
       "      <td>0.981725</td>\n",
       "    </tr>\n",
       "    <tr>\n",
       "      <td>24000</td>\n",
       "      <td>0.045900</td>\n",
       "      <td>0.081110</td>\n",
       "      <td>0.981898</td>\n",
       "    </tr>\n",
       "    <tr>\n",
       "      <td>30000</td>\n",
       "      <td>0.037700</td>\n",
       "      <td>0.086681</td>\n",
       "      <td>0.982999</td>\n",
       "    </tr>\n",
       "  </tbody>\n",
       "</table><p>"
      ]
     },
     "metadata": {},
     "output_type": "display_data"
    },
    {
     "data": {
      "text/plain": [
       "TrainOutput(global_step=30000, training_loss=0.07289839680989584, metrics={'train_runtime': 961.1686, 'train_samples_per_second': 499.392, 'train_steps_per_second': 31.212, 'total_flos': 779682919680000.0, 'train_loss': 0.07289839680989584, 'epoch': 3.0})"
      ]
     },
     "execution_count": 49,
     "metadata": {},
     "output_type": "execute_result"
    }
   ],
   "execution_count": 49
  },
  {
   "metadata": {},
   "cell_type": "markdown",
   "source": "# Fine Tuning the Model",
   "id": "161f769a945834ce"
  },
  {
   "metadata": {
    "ExecuteTime": {
     "end_time": "2024-12-03T04:00:43.339655Z",
     "start_time": "2024-12-03T04:00:43.335540Z"
    }
   },
   "cell_type": "code",
   "source": [
    "# Use the torch.optim.AdamW optimizer\n",
    "optimizer = optim.AdamW(model.parameters(), lr=5e-5)"
   ],
   "id": "8004382a0912d5d8",
   "outputs": [],
   "execution_count": 50
  },
  {
   "metadata": {
    "ExecuteTime": {
     "end_time": "2024-12-03T04:07:31.180662Z",
     "start_time": "2024-12-03T04:07:31.177698Z"
    }
   },
   "cell_type": "code",
   "source": [
    "train_dataloader = DataLoader(train_dataset, batch_size=16, shuffle=True)\n",
    "test_dataloader = DataLoader(test_dataset, batch_size=16)"
   ],
   "id": "774c0a30864954b1",
   "outputs": [],
   "execution_count": 55
  },
  {
   "metadata": {
    "ExecuteTime": {
     "end_time": "2024-12-03T04:08:09.227779Z",
     "start_time": "2024-12-03T04:08:09.223170Z"
    }
   },
   "cell_type": "code",
   "source": [
    "# Use the get_scheduler function to create a linear scheduler\n",
    "num_training_steps = len(train_dataloader) * 3\n",
    "lr_scheduler = get_scheduler(\n",
    "    \"linear\",\n",
    "    optimizer=optimizer,\n",
    "    num_warmup_steps=0,\n",
    "    num_training_steps=num_training_steps\n",
    ")"
   ],
   "id": "76b5c620fbeb832d",
   "outputs": [],
   "execution_count": 59
  },
  {
   "metadata": {
    "ExecuteTime": {
     "end_time": "2024-12-03T04:08:09.282744Z",
     "start_time": "2024-12-03T04:08:09.276309Z"
    }
   },
   "cell_type": "code",
   "source": [
    "# Define the loss function\n",
    "loss_fn = CrossEntropyLoss()"
   ],
   "id": "fa9475eb1fb4a562",
   "outputs": [],
   "execution_count": 60
  },
  {
   "metadata": {
    "ExecuteTime": {
     "end_time": "2024-12-03T05:58:03.719399Z",
     "start_time": "2024-12-03T05:44:55.948825Z"
    }
   },
   "cell_type": "code",
   "source": [
    "# Implement the tuning\n",
    "device = torch.device('cuda') if torch.cuda.is_available() else torch.device('cpu')\n",
    "\n",
    "epochs = 3\n",
    "for epoch in range(epochs):\n",
    "    model.train()\n",
    "    for batch in tqdm(train_dataloader):\n",
    "        optimizer.zero_grad()\n",
    "        input_ids = batch['input_ids'].to(device)\n",
    "        attention_mask = batch['attention_mask'].to(device)\n",
    "        labels = batch['labels'].to(device)\n",
    "        outputs = model(input_ids, attention_mask=attention_mask, labels=labels)\n",
    "        loss = outputs.loss\n",
    "        loss.backward()\n",
    "        optimizer.step()\n",
    "        lr_scheduler.step()"
   ],
   "id": "b7f857330280ce1d",
   "outputs": [
    {
     "name": "stderr",
     "output_type": "stream",
     "text": [
      "100%|██████████| 10000/10000 [04:35<00:00, 36.25it/s]\n",
      "100%|██████████| 10000/10000 [04:15<00:00, 39.16it/s]\n",
      "100%|██████████| 10000/10000 [04:16<00:00, 38.98it/s]\n"
     ]
    }
   ],
   "execution_count": 80
  },
  {
   "metadata": {
    "ExecuteTime": {
     "end_time": "2024-12-03T06:16:38.210702Z",
     "start_time": "2024-12-03T06:16:21.085218Z"
    }
   },
   "cell_type": "code",
   "source": [
    "# Evaluate the model\n",
    "from sklearn.metrics import accuracy_score\n",
    "\n",
    "model.eval()\n",
    "predictions, true_labels = [], []\n",
    "for batch in test_dataloader:\n",
    "    batch = {k: v.to(device) for k, v in batch.items()}\n",
    "    with torch.no_grad():\n",
    "        outputs = model(**batch)\n",
    "    logits = outputs.logits\n",
    "    preds = torch.argmax(logits, dim=1)  # Convert logits to predicted labels  \n",
    "    predictions.append(preds)\n",
    "    true_labels.append(batch['labels'])"
   ],
   "id": "7ee19f34e311e80e",
   "outputs": [],
   "execution_count": 106
  },
  {
   "metadata": {
    "ExecuteTime": {
     "end_time": "2024-12-03T06:17:00.602420Z",
     "start_time": "2024-12-03T06:17:00.596527Z"
    }
   },
   "cell_type": "code",
   "source": [
    "# Convert lists of tensors to single tensors\n",
    "predictions = torch.cat(predictions, dim=0)\n",
    "true_labels = torch.cat(true_labels, dim=0)"
   ],
   "id": "13237e19832adf18",
   "outputs": [],
   "execution_count": 110
  },
  {
   "metadata": {
    "ExecuteTime": {
     "end_time": "2024-12-03T06:17:04.491266Z",
     "start_time": "2024-12-03T06:17:04.486288Z"
    }
   },
   "cell_type": "code",
   "source": [
    "# Flatten the tensors\n",
    "predictions = predictions.view(-1).cpu().numpy()\n",
    "true_labels = true_labels.view(-1).cpu().numpy()"
   ],
   "id": "3477a57a7a7a4360",
   "outputs": [],
   "execution_count": 112
  },
  {
   "metadata": {
    "ExecuteTime": {
     "end_time": "2024-12-03T06:17:20.893962Z",
     "start_time": "2024-12-03T06:17:20.877251Z"
    }
   },
   "cell_type": "code",
   "source": [
    "f1 = f1_score(true_labels, predictions, average='weighted')\n",
    "print(\"F1 Score:\", f1)"
   ],
   "id": "ea12a35cda1ec44e",
   "outputs": [
    {
     "name": "stdout",
     "output_type": "stream",
     "text": [
      "F1 Score: 0.9824740675332793\n"
     ]
    }
   ],
   "execution_count": 114
  },
  {
   "metadata": {},
   "cell_type": "markdown",
   "source": "## Train the Model",
   "id": "edfb239955751c73"
  },
  {
   "metadata": {
    "jupyter": {
     "is_executing": true
    },
    "ExecuteTime": {
     "start_time": "2024-12-03T06:18:28.861642Z"
    }
   },
   "cell_type": "code",
   "source": [
    "# Adjust the learning rate and increase the number of epochs\n",
    "optimizer = optim.AdamW(model.parameters(), lr=1e-5)  # Lower learning rate\n",
    "epochs = 5  # Increase the number of epochs\n",
    "\n",
    "for epoch in range(epochs):\n",
    "    model.train()\n",
    "    for batch in tqdm(train_dataloader):\n",
    "        optimizer.zero_grad()\n",
    "        input_ids = batch['input_ids'].to(device)\n",
    "        attention_mask = batch['attention_mask'].to(device)\n",
    "        labels = batch['labels'].to(device)\n",
    "        outputs = model(input_ids, attention_mask=attention_mask, labels=labels)\n",
    "        loss = outputs.loss\n",
    "        loss.backward()\n",
    "        optimizer.step()\n",
    "        lr_scheduler.step()\n",
    "\n",
    "# Evaluate the model again\n",
    "model.eval()\n",
    "predictions, true_labels = [], []\n",
    "for batch in test_dataloader:\n",
    "    batch = {k: v.to(device) for k, v in batch.items()}\n",
    "    with torch.no_grad():\n",
    "        outputs = model(**batch)\n",
    "    logits = outputs.logits\n",
    "    preds = torch.argmax(logits, dim=1)\n",
    "    predictions.append(preds)\n",
    "    true_labels.append(batch['labels'])\n",
    "\n",
    "predictions = torch.cat(predictions, dim=0)\n",
    "true_labels = torch.cat(true_labels, dim=0)\n",
    "\n",
    "predictions = predictions.view(-1).cpu().numpy()\n",
    "true_labels = true_labels.view(-1).cpu().numpy()\n",
    "\n",
    "f1 = f1_score(true_labels, predictions, average='weighted')\n",
    "print(\"F1 Score:\", f1)"
   ],
   "id": "efccfcba271f6081",
   "outputs": [
    {
     "name": "stderr",
     "output_type": "stream",
     "text": [
      "  4%|▍         | 400/10000 [00:10<03:46, 42.38it/s]"
     ]
    }
   ],
   "execution_count": null
  },
  {
   "metadata": {},
   "cell_type": "markdown",
   "source": "end of file",
   "id": "2782b27b5e54d4d1"
  }
 ],
 "metadata": {
  "kernelspec": {
   "display_name": "Python 3",
   "language": "python",
   "name": "python3"
  },
  "language_info": {
   "codemirror_mode": {
    "name": "ipython",
    "version": 2
   },
   "file_extension": ".py",
   "mimetype": "text/x-python",
   "name": "python",
   "nbconvert_exporter": "python",
   "pygments_lexer": "ipython2",
   "version": "2.7.6"
  }
 },
 "nbformat": 4,
 "nbformat_minor": 5
}
